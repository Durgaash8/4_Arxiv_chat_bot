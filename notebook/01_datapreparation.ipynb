{
 "cells": [
  {
   "cell_type": "code",
   "execution_count": 71,
   "id": "b73060ce",
   "metadata": {},
   "outputs": [],
   "source": [
    "import json\n",
    "import numpy as np\n",
    "from sentence_transformers import SentenceTransformer\n",
    "from PIL import Image\n",
    "import os\n"
   ]
  },
  {
   "cell_type": "code",
   "execution_count": 72,
   "id": "217a3805",
   "metadata": {},
   "outputs": [],
   "source": [
    "BASE_DIR = os.path.abspath(os.path.join(os.getcwd(), \"..\"))\n",
    "# -----------------------------\n",
    "# Load dataset\n",
    "# -----------------------------\n",
    "with open(os.path.join(BASE_DIR, \"data/train/train_dataset.json\"), \"r\") as f:\n",
    "    train_data = json.load(f)\n",
    "\n",
    "with open(os.path.join(BASE_DIR, \"data/val/val_dataset.json\"), \"r\") as f:\n",
    "    val_data = json.load(f)\n",
    "\n",
    "# -"
   ]
  },
  {
   "cell_type": "code",
   "execution_count": 73,
   "id": "5fb629cc",
   "metadata": {},
   "outputs": [],
   "source": [
    "\n",
    "# Initialize text embedding model\n",
    "# -----------------------------\n",
    "text_model = SentenceTransformer(\"all-MiniLM-L6-v2\")\n",
    "\n",
    "# -----------------------------\n",
    "# Helper function\n",
    "# -----------------------------\n",
    "def get_embeddings(samples):\n",
    "    # Text embeddings\n",
    "    text_embeds = text_model.encode([s[\"user_input\"] for s in samples], convert_to_numpy=True)\n",
    "    \n",
    "    # Image embeddings\n",
    "    image_embeds = []\n",
    "    for s in samples:\n",
    "        img_path = os.path.join(BASE_DIR, s[\"image_path\"])\n",
    "        try:\n",
    "            img = Image.open(img_path).convert(\"RGB\")\n",
    "            img = img.resize((128, 128))\n",
    "            img_array = np.array(img, dtype=np.float32).flatten()\n",
    "        except Exception as e:\n",
    "            print(f\"Error loading image {s[img_path]}: {e}\")\n",
    "            img_array = np.zeros((128*128*3,))\n",
    "        image_embeds.append(img_array)\n",
    "    \n",
    "    image_embeds = np.array(image_embeds,dtype=np.float32)\n",
    "    \n",
    "    # Concatenate text + image embeddings\n",
    "    embeddings = np.hstack([text_embeds, image_embeds]).astype(np.float32)\n",
    "    return embeddings\n"
   ]
  },
  {
   "cell_type": "code",
   "execution_count": 74,
   "id": "7270ba76",
   "metadata": {},
   "outputs": [],
   "source": [
    "\n",
    "# -----------------------------\n",
    "# Generate embeddings\n",
    "# -----------------------------\n",
    "train_embeddings = get_embeddings(train_data)\n",
    "val_embeddings = get_embeddings(val_data)\n"
   ]
  },
  {
   "cell_type": "code",
   "execution_count": 75,
   "id": "11d1d469",
   "metadata": {},
   "outputs": [
    {
     "name": "stdout",
     "output_type": "stream",
     "text": [
      "Embeddings generated and saved in /embeddings folder\n"
     ]
    }
   ],
   "source": [
    "\n",
    "# -----------------------------\n",
    "# Save embeddings\n",
    "# -----------------------------\n",
    "os.makedirs(os.path.join(BASE_DIR, \"embeddings\"), exist_ok=True)\n",
    "np.save(os.path.join(BASE_DIR, \"embeddings/train_embeddings.npy\"), train_embeddings)\n",
    "np.save(os.path.join(BASE_DIR, \"embeddings/val_embeddings.npy\"), val_embeddings)\n",
    "\n",
    "print(\"Embeddings generated and saved in /embeddings folder\")\n"
   ]
  },
  {
   "cell_type": "code",
   "execution_count": null,
   "id": "5eb2bd04",
   "metadata": {},
   "outputs": [],
   "source": []
  }
 ],
 "metadata": {
  "kernelspec": {
   "display_name": "Python 3",
   "language": "python",
   "name": "python3"
  },
  "language_info": {
   "codemirror_mode": {
    "name": "ipython",
    "version": 3
   },
   "file_extension": ".py",
   "mimetype": "text/x-python",
   "name": "python",
   "nbconvert_exporter": "python",
   "pygments_lexer": "ipython3",
   "version": "3.12.4"
  }
 },
 "nbformat": 4,
 "nbformat_minor": 5
}
