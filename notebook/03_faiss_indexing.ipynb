{
 "cells": [
  {
   "cell_type": "code",
   "execution_count": 22,
   "id": "f9be86da",
   "metadata": {},
   "outputs": [],
   "source": [
    "from sentence_transformers import SentenceTransformer\n",
    "import numpy as np\n",
    "import faiss\n",
    "import os\n"
   ]
  },
  {
   "cell_type": "code",
   "execution_count": 23,
   "id": "a99fadf4",
   "metadata": {},
   "outputs": [
    {
     "name": "stdout",
     "output_type": "stream",
     "text": [
      "Train embeddings shape: (3, 384)\n",
      "Val embeddings shape: (3, 384)\n"
     ]
    }
   ],
   "source": [
    "\n",
    "# 1️Use text model only for demo\n",
    "model = SentenceTransformer('all-MiniLM-L6-v2')\n",
    "\n",
    "texts = [\"Describe this image.\", \"Describe this image.\", \"Describe this image.\"]\n",
    "train_embeddings = model.encode(texts).astype(\"float32\")\n",
    "val_embeddings = model.encode(texts).astype(\"float32\")\n",
    "\n",
    "print(\"Train embeddings shape:\", train_embeddings.shape)  # should be (3,384)\n",
    "print(\"Val embeddings shape:\", val_embeddings.shape)      # should be (3,384)\n"
   ]
  },
  {
   "cell_type": "code",
   "execution_count": 24,
   "id": "3b87a7e8",
   "metadata": {},
   "outputs": [],
   "source": [
    "\n",
    "# 2️Combine embeddings\n",
    "all_emb = np.vstack([train_embeddings, val_embeddings])\n",
    "\n",
    "# 3️Build FAISS index\n",
    "d = all_emb.shape[1]  # 384\n",
    "index = faiss.IndexFlatL2(d)\n",
    "index.add(all_emb)\n"
   ]
  },
  {
   "cell_type": "code",
   "execution_count": 25,
   "id": "c22f1701",
   "metadata": {},
   "outputs": [
    {
     "name": "stdout",
     "output_type": "stream",
     "text": [
      "FAISS index rebuilt correctly with 384-dim vectors\n"
     ]
    }
   ],
   "source": [
    "\n",
    "os.makedirs(\"faiss_index\", exist_ok=True)\n",
    "faiss.write_index(index, \"faiss_index/multimodal.index\")\n",
    "print(\"FAISS index rebuilt correctly with 384-dim vectors\")\n"
   ]
  },
  {
   "cell_type": "code",
   "execution_count": null,
   "id": "25c52834",
   "metadata": {},
   "outputs": [],
   "source": []
  },
  {
   "cell_type": "code",
   "execution_count": null,
   "id": "8bc19269",
   "metadata": {},
   "outputs": [],
   "source": []
  }
 ],
 "metadata": {
  "kernelspec": {
   "display_name": "Python 3",
   "language": "python",
   "name": "python3"
  },
  "language_info": {
   "codemirror_mode": {
    "name": "ipython",
    "version": 3
   },
   "file_extension": ".py",
   "mimetype": "text/x-python",
   "name": "python",
   "nbconvert_exporter": "python",
   "pygments_lexer": "ipython3",
   "version": "3.12.4"
  }
 },
 "nbformat": 4,
 "nbformat_minor": 5
}
