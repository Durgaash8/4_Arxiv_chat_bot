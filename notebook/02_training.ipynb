{
 "cells": [
  {
   "cell_type": "code",
   "execution_count": null,
   "id": "b6e26322",
   "metadata": {},
   "outputs": [],
   "source": [
    "import numpy as np  \n",
    "from sklearn.linear_model import LogisticRegression\n",
    "from sklearn.preprocessing import LabelEncoder\n",
    "from sklearn.metrics import accuracy_score,classification_report\n",
    "import json\n",
    "import os \n",
    "import pickle"
   ]
  },
  {
   "cell_type": "code",
   "execution_count": 3,
   "id": "e8032f2a",
   "metadata": {},
   "outputs": [
    {
     "name": "stdout",
     "output_type": "stream",
     "text": [
      "Train shape: (3, 49536)\n",
      "Val shape: (3, 49536)\n"
     ]
    }
   ],
   "source": [
    "# Load embeddings\n",
    "train_embeddings = np.load(\"../embeddings/train_embeddings.npy\", allow_pickle=True)\n",
    "val_embeddings = np.load(\"../embeddings/val_embeddings.npy\", allow_pickle=True)\n",
    "\n",
    "# Fix nested arrays → stack into proper 2D float array\n",
    "train_embeddings = np.vstack(train_embeddings).astype(np.float32)\n",
    "val_embeddings = np.vstack(val_embeddings).astype(np.float32)\n",
    "\n",
    "print(\"Train shape:\", train_embeddings.shape)\n",
    "print(\"Val shape:\", val_embeddings.shape)\n",
    "\n"
   ]
  },
  {
   "cell_type": "code",
   "execution_count": 4,
   "id": "488b825d",
   "metadata": {},
   "outputs": [
    {
     "name": "stdout",
     "output_type": "stream",
     "text": [
      "Classes: ['apple' 'apple2' 'bike' 'bike2' 'car' 'tower']\n"
     ]
    }
   ],
   "source": [
    "BASE_DIR = os.path.abspath(os.path.join(os.getcwd(), \"..\"))\n",
    "#load labels form JSON\n",
    "with open(os.path.join(BASE_DIR, \"data/train/train_dataset.json\"), \"r\") as f:\n",
    "    train_data = json.load(f)\n",
    "with open(os.path.join(BASE_DIR, \"data/val/val_dataset.json\"), \"r\") as f:\n",
    "    val_data = json.load(f)\n",
    "    \n",
    "y_train = [s[\"expected_output\"] for s in train_data]\n",
    "y_val = [s[\"expected_output\"] for s in val_data]\n",
    "\n",
    "all_labels = y_train + y_val  \n",
    "#encode string labels to integers\n",
    "label_encoder = LabelEncoder()\n",
    "all_labels = y_train + y_val \n",
    "label_encoder.fit(all_labels)\n",
    "y_train_encoded = label_encoder.transform(y_train)\n",
    "y_val_encoded = label_encoder.transform(y_val)\n",
    "\n",
    "print(\"Classes:\", label_encoder.classes_)\n"
   ]
  },
  {
   "cell_type": "code",
   "execution_count": 5,
   "id": "90d27c19",
   "metadata": {},
   "outputs": [],
   "source": [
    "#Train logistic regression classifier\n",
    "clf = LogisticRegression(max_iter=1000)\n",
    "clf.fit(train_embeddings, y_train_encoded)\n",
    "y_pred = clf.predict(val_embeddings)\n",
    "\n",
    "val_labels = sorted(set(y_val_encoded))"
   ]
  },
  {
   "cell_type": "code",
   "execution_count": 6,
   "id": "8e95d555",
   "metadata": {},
   "outputs": [
    {
     "name": "stdout",
     "output_type": "stream",
     "text": [
      "Accuracy: 0.0\n",
      "\n",
      "Classification Report:\n",
      "               precision    recall  f1-score   support\n",
      "\n",
      "      apple2       0.00      0.00      0.00       1.0\n",
      "       bike2       0.00      0.00      0.00       1.0\n",
      "         car       0.00      0.00      0.00       1.0\n",
      "\n",
      "   micro avg       0.00      0.00      0.00       3.0\n",
      "   macro avg       0.00      0.00      0.00       3.0\n",
      "weighted avg       0.00      0.00      0.00       3.0\n",
      "\n"
     ]
    }
   ],
   "source": [
    "print(\"Accuracy:\", accuracy_score(y_val_encoded, y_pred))\n",
    "print(\"\\nClassification Report:\\n\",\n",
    "      classification_report(\n",
    "          y_val_encoded,\n",
    "          y_pred,\n",
    "          labels=val_labels,\n",
    "          target_names=[label_encoder.classes_[i] for i in val_labels],\n",
    "          zero_division=0\n",
    "      ))"
   ]
  },
  {
   "cell_type": "code",
   "execution_count": 7,
   "id": "1b5af052",
   "metadata": {},
   "outputs": [
    {
     "name": "stdout",
     "output_type": "stream",
     "text": [
      "Classifier & Label Encoder saved successfully\n"
     ]
    }
   ],
   "source": [
    "\n",
    "\n",
    "# Save models in root 'models' folder\n",
    "os.makedirs(\"../models\", exist_ok=True)\n",
    "\n",
    "os.makedirs(\"models\", exist_ok=True)\n",
    "\n",
    "# Save classifier\n",
    "with open(\"models/logreg_classifier.pkl\", \"wb\") as f:\n",
    "    pickle.dump(clf, f)\n",
    "\n",
    "# Save label encoder\n",
    "with open(\"models/label_encoder.pkl\", \"wb\") as f:\n",
    "    pickle.dump(label_encoder, f)\n",
    "\n",
    "print(\"Classifier & Label Encoder saved successfully\")\n"
   ]
  },
  {
   "cell_type": "code",
   "execution_count": 79,
   "id": "2bec2d95",
   "metadata": {},
   "outputs": [],
   "source": [
    "\n",
    "# import numpy as np\n",
    "\n",
    "# arr = np.load(\"../embeddings/train_embeddings.npy\", allow_pickle=True)\n",
    "# print(\"Shape:\", arr.shape)\n",
    "# print(\"Dtype:\", arr.dtype)\n",
    "# print(\"First element type:\", type(arr[0]))\n"
   ]
  },
  {
   "cell_type": "code",
   "execution_count": null,
   "id": "a740194c",
   "metadata": {},
   "outputs": [],
   "source": []
  },
  {
   "cell_type": "code",
   "execution_count": null,
   "id": "d3ea3fe7",
   "metadata": {},
   "outputs": [],
   "source": []
  },
  {
   "cell_type": "code",
   "execution_count": null,
   "id": "66d1fdd2",
   "metadata": {},
   "outputs": [],
   "source": []
  },
  {
   "cell_type": "code",
   "execution_count": null,
   "id": "45e90e1d",
   "metadata": {},
   "outputs": [],
   "source": []
  },
  {
   "cell_type": "code",
   "execution_count": null,
   "id": "8972b58c",
   "metadata": {},
   "outputs": [],
   "source": []
  },
  {
   "cell_type": "code",
   "execution_count": null,
   "id": "a4168766",
   "metadata": {},
   "outputs": [],
   "source": []
  }
 ],
 "metadata": {
  "kernelspec": {
   "display_name": "Python 3",
   "language": "python",
   "name": "python3"
  },
  "language_info": {
   "codemirror_mode": {
    "name": "ipython",
    "version": 3
   },
   "file_extension": ".py",
   "mimetype": "text/x-python",
   "name": "python",
   "nbconvert_exporter": "python",
   "pygments_lexer": "ipython3",
   "version": "3.12.4"
  }
 },
 "nbformat": 4,
 "nbformat_minor": 5
}
